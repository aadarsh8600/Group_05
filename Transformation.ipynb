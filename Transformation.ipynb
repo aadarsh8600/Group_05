{
 "cells": [
  {
   "cell_type": "code",
   "execution_count": 1,
   "metadata": {},
   "outputs": [
    {
     "name": "stdout",
     "output_type": "stream",
     "text": [
      "Starting Spark application\n"
     ]
    },
    {
     "data": {
      "text/html": [
       "<table>\n",
       "<tr><th>ID</th><th>YARN Application ID</th><th>Kind</th><th>State</th><th>Spark UI</th><th>Driver log</th><th>Current session?</th></tr><tr><td>0</td><td>application_1753689413660_0001</td><td>pyspark</td><td>idle</td><td><a target=\"_blank\" href=\"http://ip-172-31-25-17.ec2.internal:20888/proxy/application_1753689413660_0001/\">Link</a></td><td><a target=\"_blank\" href=\"http://ip-172-31-18-88.ec2.internal:8042/node/containerlogs/container_1753689413660_0001_01_000001/livy\">Link</a></td><td>✔</td></tr></table>"
      ],
      "text/plain": [
       "<IPython.core.display.HTML object>"
      ]
     },
     "metadata": {},
     "output_type": "display_data"
    },
    {
     "data": {
      "application/vnd.jupyter.widget-view+json": {
       "model_id": "",
       "version_major": 2,
       "version_minor": 0
      },
      "text/plain": [
       "FloatProgress(value=0.0, bar_style='info', description='Progress:', layout=Layout(height='25px', width='50%'),…"
      ]
     },
     "metadata": {},
     "output_type": "display_data"
    },
    {
     "name": "stdout",
     "output_type": "stream",
     "text": [
      "SparkSession available as 'spark'.\n"
     ]
    },
    {
     "data": {
      "application/vnd.jupyter.widget-view+json": {
       "model_id": "",
       "version_major": 2,
       "version_minor": 0
      },
      "text/plain": [
       "FloatProgress(value=0.0, bar_style='info', description='Progress:', layout=Layout(height='25px', width='50%'),…"
      ]
     },
     "metadata": {},
     "output_type": "display_data"
    }
   ],
   "source": [
    "from pyspark.sql import SparkSession"
   ]
  },
  {
   "cell_type": "code",
   "execution_count": 2,
   "metadata": {},
   "outputs": [
    {
     "data": {
      "application/vnd.jupyter.widget-view+json": {
       "model_id": "",
       "version_major": 2,
       "version_minor": 0
      },
      "text/plain": [
       "FloatProgress(value=0.0, bar_style='info', description='Progress:', layout=Layout(height='25px', width='50%'),…"
      ]
     },
     "metadata": {},
     "output_type": "display_data"
    }
   ],
   "source": [
    "spark = SparkSession.builder \\\n",
    "    .appName(\"LoadParquetFromS3\") \\\n",
    "    .config(\"spark.hadoop.fs.s3a.impl\", \"org.apache.hadoop.fs.s3a.S3AFileSystem\") \\\n",
    "    .config(\"spark.hadoop.fs.s3a.aws.credentials.provider\", \"com.amazonaws.auth.DefaultAWSCredentialsProviderChain\") \\\n",
    "    .getOrCreate()"
   ]
  },
  {
   "cell_type": "code",
   "execution_count": null,
   "metadata": {},
   "outputs": [
    {
     "data": {
      "application/vnd.jupyter.widget-view+json": {
       "model_id": "",
       "version_major": 2,
       "version_minor": 0
      },
      "text/plain": [
       "FloatProgress(value=0.0, bar_style='info', description='Progress:', layout=Layout(height='25px', width='50%'),…"
      ]
     },
     "metadata": {},
     "output_type": "display_data"
    }
   ],
   "source": [
    "s3_path = \"s3a://final-project-bucket-group-5/master_data/part-00000-403c5616-918e-49ec-a9fe-e3c4f422e78e-c000.csv\""
   ]
  },
  {
   "cell_type": "code",
   "execution_count": null,
   "metadata": {},
   "outputs": [
    {
     "data": {
      "application/vnd.jupyter.widget-view+json": {
       "model_id": "",
       "version_major": 2,
       "version_minor": 0
      },
      "text/plain": [
       "FloatProgress(value=0.0, bar_style='info', description='Progress:', layout=Layout(height='25px', width='50%'),…"
      ]
     },
     "metadata": {},
     "output_type": "display_data"
    }
   ],
   "source": [
    "df = spark.read.csv(s3_path,header=True,inferSchema=True)"
   ]
  },
  {
   "cell_type": "code",
   "execution_count": 62,
   "metadata": {},
   "outputs": [
    {
     "data": {
      "application/vnd.jupyter.widget-view+json": {
       "model_id": "",
       "version_major": 2,
       "version_minor": 0
      },
      "text/plain": [
       "FloatProgress(value=0.0, bar_style='info', description='Progress:', layout=Layout(height='25px', width='50%'),…"
      ]
     },
     "metadata": {},
     "output_type": "display_data"
    },
    {
     "name": "stdout",
     "output_type": "stream",
     "text": [
      "root\n",
      " |-- id: string (nullable = true)\n",
      " |-- case number: string (nullable = true)\n",
      " |-- block: string (nullable = true)\n",
      " |-- nibrs code: string (nullable = true)\n",
      " |-- primary type: string (nullable = true)\n",
      " |-- description: string (nullable = true)\n",
      " |-- location description: string (nullable = true)\n",
      " |-- arrest: string (nullable = true)\n",
      " |-- domestic: string (nullable = true)\n",
      " |-- beat: string (nullable = true)\n",
      " |-- area: string (nullable = true)\n",
      " |-- ward: string (nullable = true)\n",
      " |-- community area: string (nullable = true)\n",
      " |-- fbi code: string (nullable = true)\n",
      " |-- x coordinate: string (nullable = true)\n",
      " |-- y coordinate: string (nullable = true)\n",
      " |-- year: string (nullable = true)\n",
      " |-- latitude: string (nullable = true)\n",
      " |-- longitude: string (nullable = true)\n",
      " |-- location: string (nullable = true)\n",
      " |-- weapon description: string (nullable = true)\n",
      " |-- vict age: string (nullable = true)\n",
      " |-- vict sex: string (nullable = true)\n",
      " |-- victim race: string (nullable = true)\n",
      " |-- date occ: string (nullable = true)\n",
      " |-- time occ: string (nullable = true)\n",
      " |-- date rptd: string (nullable = true)\n",
      " |-- time rptd: string (nullable = true)\n",
      " |-- date arrested: string (nullable = true)\n",
      " |-- time arrested: string (nullable = true)\n",
      " |-- premises desc: string (nullable = true)\n",
      " |-- district: string (nullable = true)\n",
      " |-- suspect age: string (nullable = true)\n",
      " |-- suspect sex: string (nullable = true)\n",
      " |-- suspect race: string (nullable = true)\n",
      " |-- case status: string (nullable = true)\n",
      " |-- crime category: string (nullable = true)\n",
      " |-- secondary description: string (nullable = true)\n",
      " |-- census tract: string (nullable = true)\n",
      " |-- zip code: string (nullable = true)\n",
      " |-- incident narrative: string (nullable = true)\n",
      " |-- priority level: string (nullable = true)\n",
      " |-- repeat offense flag: string (nullable = true)"
     ]
    }
   ],
   "source": [
    "df.printSchema()"
   ]
  },
  {
   "cell_type": "code",
   "execution_count": 63,
   "metadata": {},
   "outputs": [
    {
     "data": {
      "application/vnd.jupyter.widget-view+json": {
       "model_id": "",
       "version_major": 2,
       "version_minor": 0
      },
      "text/plain": [
       "FloatProgress(value=0.0, bar_style='info', description='Progress:', layout=Layout(height='25px', width='50%'),…"
      ]
     },
     "metadata": {},
     "output_type": "display_data"
    },
    {
     "name": "stdout",
     "output_type": "stream",
     "text": [
      "Original columns: ['id', 'case number', 'block', 'nibrs code', 'primary type', 'description', 'location description', 'arrest', 'domestic', 'beat', 'area', 'ward', 'community area', 'fbi code', 'x coordinate', 'y coordinate', 'year', 'latitude', 'longitude', 'location', 'weapon description', 'vict age', 'vict sex', 'victim race', 'date occ', 'time occ', 'date rptd', 'time rptd', 'date arrested', 'time arrested', 'premises desc', 'district', 'suspect age', 'suspect sex', 'suspect race', 'case status', 'crime category', 'secondary description', 'census tract', 'zip code', 'incident narrative', 'priority level', 'repeat offense flag']"
     ]
    }
   ],
   "source": [
    "print(\"Original columns:\", df.columns)"
   ]
  },
  {
   "cell_type": "code",
   "execution_count": 64,
   "metadata": {},
   "outputs": [
    {
     "data": {
      "application/vnd.jupyter.widget-view+json": {
       "model_id": "",
       "version_major": 2,
       "version_minor": 0
      },
      "text/plain": [
       "FloatProgress(value=0.0, bar_style='info', description='Progress:', layout=Layout(height='25px', width='50%'),…"
      ]
     },
     "metadata": {},
     "output_type": "display_data"
    },
    {
     "name": "stdout",
     "output_type": "stream",
     "text": [
      "+---------------+\n",
      "|          block|\n",
      "+---------------+\n",
      "|6666 Halsted St|\n",
      "|  1598 State St|\n",
      "|    924 63rd St|\n",
      "|   1706 King Dr|\n",
      "|   4941 95th St|\n",
      "+---------------+\n",
      "only showing top 5 rows"
     ]
    }
   ],
   "source": [
    "df.select(\"block\").show(5)"
   ]
  },
  {
   "cell_type": "code",
   "execution_count": 65,
   "metadata": {},
   "outputs": [
    {
     "data": {
      "application/vnd.jupyter.widget-view+json": {
       "model_id": "",
       "version_major": 2,
       "version_minor": 0
      },
      "text/plain": [
       "FloatProgress(value=0.0, bar_style='info', description='Progress:', layout=Layout(height='25px', width='50%'),…"
      ]
     },
     "metadata": {},
     "output_type": "display_data"
    },
    {
     "name": "stdout",
     "output_type": "stream",
     "text": [
      "+-----------+\n",
      "|case_number|\n",
      "+-----------+\n",
      "|  CPD383874|\n",
      "|  CPD826714|\n",
      "|  CPD376012|\n",
      "|  CPD417703|\n",
      "|  CPD524301|\n",
      "+-----------+\n",
      "only showing top 5 rows"
     ]
    }
   ],
   "source": [
    "df.select(df[\"case number\"].alias(\"case_number\")).show(5)"
   ]
  },
  {
   "cell_type": "code",
   "execution_count": 47,
   "metadata": {},
   "outputs": [
    {
     "data": {
      "application/vnd.jupyter.widget-view+json": {
       "model_id": "",
       "version_major": 2,
       "version_minor": 0
      },
      "text/plain": [
       "FloatProgress(value=0.0, bar_style='info', description='Progress:', layout=Layout(height='25px', width='50%'),…"
      ]
     },
     "metadata": {},
     "output_type": "display_data"
    }
   ],
   "source": []
  },
  {
   "cell_type": "code",
   "execution_count": 49,
   "metadata": {},
   "outputs": [
    {
     "data": {
      "application/vnd.jupyter.widget-view+json": {
       "model_id": "",
       "version_major": 2,
       "version_minor": 0
      },
      "text/plain": [
       "FloatProgress(value=0.0, bar_style='info', description='Progress:', layout=Layout(height='25px', width='50%'),…"
      ]
     },
     "metadata": {},
     "output_type": "display_data"
    },
    {
     "name": "stdout",
     "output_type": "stream",
     "text": [
      "['id', 'case_number', 'block', 'nibrs_code', 'primary_type', 'description', 'location_description', 'arrest', 'domestic', 'beat', 'area', 'ward', 'community_area', 'fbi_code', 'x_coordinate', 'y_coordinate', 'year', 'latitude', 'longitude', 'location', 'weapon_description', 'vict_age', 'vict_sex', 'victim_race', 'date_occ', 'time_occ', 'date_rptd', 'time_rptd', 'date_arrested', 'time_arrested', 'premises_desc', 'district', 'suspect_age', 'suspect_sex', 'suspect_race', 'case_status', 'crime_category', 'secondary_description', 'census_tract', 'zip_code', 'incident_narrative', 'priority_level', 'repeat_offense_flag']"
     ]
    }
   ],
   "source": [
    "print(df.columns)"
   ]
  },
  {
   "cell_type": "code",
   "execution_count": 67,
   "metadata": {},
   "outputs": [
    {
     "data": {
      "application/vnd.jupyter.widget-view+json": {
       "model_id": "",
       "version_major": 2,
       "version_minor": 0
      },
      "text/plain": [
       "FloatProgress(value=0.0, bar_style='info', description='Progress:', layout=Layout(height='25px', width='50%'),…"
      ]
     },
     "metadata": {},
     "output_type": "display_data"
    }
   ],
   "source": [
    "from pyspark.sql.types import StructType, StructField, StringType, IntegerType, DoubleType\n"
   ]
  },
  {
   "cell_type": "code",
   "execution_count": 69,
   "metadata": {},
   "outputs": [
    {
     "data": {
      "application/vnd.jupyter.widget-view+json": {
       "model_id": "",
       "version_major": 2,
       "version_minor": 0
      },
      "text/plain": [
       "FloatProgress(value=0.0, bar_style='info', description='Progress:', layout=Layout(height='25px', width='50%'),…"
      ]
     },
     "metadata": {},
     "output_type": "display_data"
    }
   ],
   "source": [
    "from pyspark.sql.types import BooleanType\n"
   ]
  },
  {
   "cell_type": "code",
   "execution_count": 71,
   "metadata": {},
   "outputs": [
    {
     "data": {
      "application/vnd.jupyter.widget-view+json": {
       "model_id": "",
       "version_major": 2,
       "version_minor": 0
      },
      "text/plain": [
       "FloatProgress(value=0.0, bar_style='info', description='Progress:', layout=Layout(height='25px', width='50%'),…"
      ]
     },
     "metadata": {},
     "output_type": "display_data"
    }
   ],
   "source": [
    "from pyspark.sql.types import LongType\n"
   ]
  },
  {
   "cell_type": "code",
   "execution_count": null,
   "metadata": {},
   "outputs": [
    {
     "data": {
      "application/vnd.jupyter.widget-view+json": {
       "model_id": "",
       "version_major": 2,
       "version_minor": 0
      },
      "text/plain": [
       "FloatProgress(value=0.0, bar_style='info', description='Progress:', layout=Layout(height='25px', width='50%'),…"
      ]
     },
     "metadata": {},
     "output_type": "display_data"
    }
   ],
   "source": [
    "# Define schema based on your sample\n",
    "schema = StructType([\n",
    "    StructField(\"id\", IntegerType(), True),\n",
    "    StructField(\"case_number\", StringType(), True),\n",
    "    StructField(\"block\", StringType(), True),\n",
    "    StructField(\"nibrs_code\", StringType(), True),\n",
    "    StructField(\"primary_type\", StringType(), True),\n",
    "    StructField(\"description\", StringType(), True),\n",
    "    StructField(\"location_description\", StringType(), True),\n",
    "    StructField(\"arrest\", BooleanType(), True),\n",
    "    StructField(\"domestic\", BooleanType(), True),\n",
    "    StructField(\"beat\", StringType(), True),\n",
    "    StructField(\"area\", StringType(), True),\n",
    "    StructField(\"ward\", StringType(), True),\n",
    "    StructField(\"community_area\", StringType(), True),\n",
    "    StructField(\"fbi_code\", StringType(), True),\n",
    "    StructField(\"x_coordinate\", LongType(), True),\n",
    "    StructField(\"y_coordinate\", LongType(), True),\n",
    "    StructField(\"year\", IntegerType(), True),\n",
    "    StructField(\"latitude\", DoubleType(), True),\n",
    "    StructField(\"longitude\", DoubleType(), True),\n",
    "    StructField(\"location\", StringType(), True),\n",
    "    StructField(\"weapon_description\", StringType(), True),\n",
    "    StructField(\"vict_age\", IntegerType(), True),\n",
    "    StructField(\"vict_sex\", StringType(), True),\n",
    "    StructField(\"victim_race\", StringType(), True),\n",
    "    StructField(\"date_occ\", StringType(), True),\n",
    "    StructField(\"time_occ\", StringType(), True),\n",
    "    StructField(\"date_rptd\", StringType(), True),\n",
    "    StructField(\"time_rptd\", StringType(), True),\n",
    "    StructField(\"date_arrested\", StringType(), True),\n",
    "    StructField(\"time_arrested\", StringType(), True),\n",
    "    StructField(\"premises_desc\", StringType(), True),\n",
    "    StructField(\"district\", StringType(), True),\n",
    "    StructField(\"suspect_age\", IntegerType(), True),\n",
    "    StructField(\"suspect_sex\", StringType(), True),\n",
    "    StructField(\"suspect_race\", StringType(), True),\n",
    "    StructField(\"case_status\", StringType(), True),\n",
    "    StructField(\"crime_category\", StringType(), True),\n",
    "    StructField(\"secondary_description\", StringType(), True),\n",
    "    StructField(\"census_tract\", StringType(), True),\n",
    "    StructField(\"zip_code\", StringType(), True),\n",
    "    StructField(\"incident_narrative\", StringType(), True),\n",
    "    StructField(\"priority_level\", StringType(), True),\n",
    "    StructField(\"repeat_offense_flag\", BooleanType(), True)\n",
    "])\n",
    "\n",
    "# Read CSV files with custom schema\n",
    "df = spark.read.format(\"csv\") \\\n",
    "    .option(\"header\", True) \\\n",
    "    .schema(schema) \\\n",
    "    .load(s3_path)"
   ]
  },
  {
   "cell_type": "code",
   "execution_count": 73,
   "metadata": {},
   "outputs": [
    {
     "data": {
      "application/vnd.jupyter.widget-view+json": {
       "model_id": "",
       "version_major": 2,
       "version_minor": 0
      },
      "text/plain": [
       "FloatProgress(value=0.0, bar_style='info', description='Progress:', layout=Layout(height='25px', width='50%'),…"
      ]
     },
     "metadata": {},
     "output_type": "display_data"
    },
    {
     "name": "stdout",
     "output_type": "stream",
     "text": [
      "+--------+-----------+---------------+----------+------------------+--------------------+--------------------+------+--------+----+--------------+----+--------------+--------+------------+------------+----+--------+---------+-------------------+------------------+--------+--------+-----------+--------------------+--------+--------------------+---------+--------------------+-------------+--------------+--------+-----------+-----------+------------+-------------------+--------------+---------------------+------------+--------+--------------------+--------------+-------------------+\n",
      "|      id|case_number|          block|nibrs_code|      primary_type|         description|location_description|arrest|domestic|beat|          area|ward|community_area|fbi_code|x_coordinate|y_coordinate|year|latitude|longitude|           location|weapon_description|vict_age|vict_sex|victim_race|            date_occ|time_occ|           date_rptd|time_rptd|       date_arrested|time_arrested| premises_desc|district|suspect_age|suspect_sex|suspect_race|        case_status|crime_category|secondary_description|census_tract|zip_code|  incident_narrative|priority_level|repeat_offense_flag|\n",
      "+--------+-----------+---------------+----------+------------------+--------------------+--------------------+------+--------+----+--------------+----+--------------+--------+------------+------------+----+--------+---------+-------------------+------------------+--------+--------+-----------+--------------------+--------+--------------------+---------+--------------------+-------------+--------------+--------+-----------+-----------+------------+-------------------+--------------+---------------------+------------+--------+--------------------+--------------+-------------------+\n",
      "|10000000|  CPD383874|6666 Halsted St|      1310|   Criminal Damage|Criminal Damage t...|      Public Transit| false|    true|2522|     West Side| W40|        Austin|     290|     1150092|     1899985|2017| 41.8699| -87.6385|(41.8699, -87.6385)|              null|      75|    null|      White|2017-07-16T00:00:...|    2113|2017-07-16T00:00:...|     2113|                null|         null|   Parking Lot|     D17|         59|          M|        null|               Open|      Property|            Vandalism|      410505|   60625|Victim vandalism ...|        Medium|              false|\n",
      "|10000001|  CPD826714|  1598 State St|      0810|             Theft|               Theft|              Street| false|    true|1611|    South Side| W33|          null|     23H|     1150019|     1899992|2024| 41.8847|  -87.638| (41.8847, -87.638)|              null|      32|       F|      Black|2024-07-31T00:00:...|    2041|2024-07-31T00:00:...|     2041|                null|         null|        Street|     D16|         69|          X|       White|             Closed|      Property|          Shoplifting|      410505|   60601|Victim shopliftin...|        Medium|              false|\n",
      "|10000002|  CPD376012|    924 63rd St|      1310|   Criminal Damage|Criminal Damage t...|              Street|  true|   false|1621|     West Side| W28|      Lakeview|     290|     1150030|     1900088|2021| 41.8762| -87.6309|(41.8762, -87.6309)|             Knife|    null|       X|   Hispanic|2021-02-14T00:00:...|    0443|2021-02-14T00:00:...|     0443|2021-02-14T00:00:...|         null|Public Transit|     D07|         69|          X|       Black|Under Investigation|      Property|            Vandalism|      250303|   60615|Victim vandalism ...|        Medium|              false|\n",
      "|10000003|  CPD417703|   1706 King Dr|      null|           Robbery|       Armed Robbery|        Retail Store| false|   false|0521|    North Side| W22| Humboldt Park|     120|     1150069|     1900040|2008| 41.8852| -87.6266|(41.8852, -87.6266)|             Knife|      31|       M|      Black|2008-03-26T00:00:...|    0431|2008-03-28T00:00:...|     0431|                null|         null|         Alley|     D01|       null|          X|       White|               Open|       Violent|        Armed Robbery|      250303|   60615|                null|          High|              false|\n",
      "|10000004|  CPD524301|   4941 95th St|      3710|Disorderly Conduct|  Disorderly Conduct|      Public Transit| false|   false|1111|Far South Side| W41|     Englewood|     90C|     1150081|     1899956|2001| 41.8759| -87.6218|(41.8759, -87.6218)|        Strong-Arm|      80|       F|       null|2001-03-04T00:00:...|    0005|2001-03-04T00:00:...|     0005|                null|         null|          null|     D01|       null|          M|       White|               Open|         Other|  Public Intoxication|      250303|   60619|                null|           Low|              false|\n",
      "+--------+-----------+---------------+----------+------------------+--------------------+--------------------+------+--------+----+--------------+----+--------------+--------+------------+------------+----+--------+---------+-------------------+------------------+--------+--------+-----------+--------------------+--------+--------------------+---------+--------------------+-------------+--------------+--------+-----------+-----------+------------+-------------------+--------------+---------------------+------------+--------+--------------------+--------------+-------------------+\n",
      "only showing top 5 rows"
     ]
    }
   ],
   "source": [
    "df.show(5)"
   ]
  },
  {
   "cell_type": "code",
   "execution_count": 74,
   "metadata": {},
   "outputs": [
    {
     "data": {
      "application/vnd.jupyter.widget-view+json": {
       "model_id": "",
       "version_major": 2,
       "version_minor": 0
      },
      "text/plain": [
       "FloatProgress(value=0.0, bar_style='info', description='Progress:', layout=Layout(height='25px', width='50%'),…"
      ]
     },
     "metadata": {},
     "output_type": "display_data"
    },
    {
     "name": "stdout",
     "output_type": "stream",
     "text": [
      "root\n",
      " |-- id: integer (nullable = true)\n",
      " |-- case_number: string (nullable = true)\n",
      " |-- block: string (nullable = true)\n",
      " |-- nibrs_code: string (nullable = true)\n",
      " |-- primary_type: string (nullable = true)\n",
      " |-- description: string (nullable = true)\n",
      " |-- location_description: string (nullable = true)\n",
      " |-- arrest: boolean (nullable = true)\n",
      " |-- domestic: boolean (nullable = true)\n",
      " |-- beat: string (nullable = true)\n",
      " |-- area: string (nullable = true)\n",
      " |-- ward: string (nullable = true)\n",
      " |-- community_area: string (nullable = true)\n",
      " |-- fbi_code: string (nullable = true)\n",
      " |-- x_coordinate: long (nullable = true)\n",
      " |-- y_coordinate: long (nullable = true)\n",
      " |-- year: integer (nullable = true)\n",
      " |-- latitude: double (nullable = true)\n",
      " |-- longitude: double (nullable = true)\n",
      " |-- location: string (nullable = true)\n",
      " |-- weapon_description: string (nullable = true)\n",
      " |-- vict_age: integer (nullable = true)\n",
      " |-- vict_sex: string (nullable = true)\n",
      " |-- victim_race: string (nullable = true)\n",
      " |-- date_occ: string (nullable = true)\n",
      " |-- time_occ: string (nullable = true)\n",
      " |-- date_rptd: string (nullable = true)\n",
      " |-- time_rptd: string (nullable = true)\n",
      " |-- date_arrested: string (nullable = true)\n",
      " |-- time_arrested: string (nullable = true)\n",
      " |-- premises_desc: string (nullable = true)\n",
      " |-- district: string (nullable = true)\n",
      " |-- suspect_age: integer (nullable = true)\n",
      " |-- suspect_sex: string (nullable = true)\n",
      " |-- suspect_race: string (nullable = true)\n",
      " |-- case_status: string (nullable = true)\n",
      " |-- crime_category: string (nullable = true)\n",
      " |-- secondary_description: string (nullable = true)\n",
      " |-- census_tract: string (nullable = true)\n",
      " |-- zip_code: string (nullable = true)\n",
      " |-- incident_narrative: string (nullable = true)\n",
      " |-- priority_level: string (nullable = true)\n",
      " |-- repeat_offense_flag: boolean (nullable = true)"
     ]
    }
   ],
   "source": [
    "df.printSchema()"
   ]
  },
  {
   "cell_type": "code",
   "execution_count": 76,
   "metadata": {},
   "outputs": [
    {
     "data": {
      "application/vnd.jupyter.widget-view+json": {
       "model_id": "",
       "version_major": 2,
       "version_minor": 0
      },
      "text/plain": [
       "FloatProgress(value=0.0, bar_style='info', description='Progress:', layout=Layout(height='25px', width='50%'),…"
      ]
     },
     "metadata": {},
     "output_type": "display_data"
    },
    {
     "name": "stdout",
     "output_type": "stream",
     "text": [
      "+--------+-----------+---------------+----------+------------------+--------------------+--------------------+------+--------+----+--------------+----+--------------+--------+------------+------------+----+--------+---------+-------------------+------------------+--------+--------+-----------+--------------------+--------+--------------------+---------+--------------------+-------------+--------------+--------+-----------+-----------+------------+-------------------+--------------+---------------------+------------+--------+--------------------+--------------+-------------------+\n",
      "|      id|case_number|          block|nibrs_code|      primary_type|         description|location_description|arrest|domestic|beat|          area|ward|community_area|fbi_code|x_coordinate|y_coordinate|year|latitude|longitude|           location|weapon_description|vict_age|vict_sex|victim_race|            date_occ|time_occ|           date_rptd|time_rptd|       date_arrested|time_arrested| premises_desc|district|suspect_age|suspect_sex|suspect_race|        case_status|crime_category|secondary_description|census_tract|zip_code|  incident_narrative|priority_level|repeat_offense_flag|\n",
      "+--------+-----------+---------------+----------+------------------+--------------------+--------------------+------+--------+----+--------------+----+--------------+--------+------------+------------+----+--------+---------+-------------------+------------------+--------+--------+-----------+--------------------+--------+--------------------+---------+--------------------+-------------+--------------+--------+-----------+-----------+------------+-------------------+--------------+---------------------+------------+--------+--------------------+--------------+-------------------+\n",
      "|10000000|  CPD383874|6666 Halsted St|      1310|   Criminal Damage|Criminal Damage t...|      Public Transit| false|    true|2522|     West Side| W40|        Austin|     290|     1150092|     1899985|2017| 41.8699| -87.6385|(41.8699, -87.6385)|              null|      75|    null|      White|2017-07-16T00:00:...|    2113|2017-07-16T00:00:...|     2113|                null|         null|   Parking Lot|     D17|         59|          M|        null|               Open|      Property|            Vandalism|      410505|   60625|Victim vandalism ...|        Medium|              false|\n",
      "|10000001|  CPD826714|  1598 State St|      0810|             Theft|               Theft|              Street| false|    true|1611|    South Side| W33|          null|     23H|     1150019|     1899992|2024| 41.8847|  -87.638| (41.8847, -87.638)|              null|      32|       F|      Black|2024-07-31T00:00:...|    2041|2024-07-31T00:00:...|     2041|                null|         null|        Street|     D16|         69|          X|       White|             Closed|      Property|          Shoplifting|      410505|   60601|Victim shopliftin...|        Medium|              false|\n",
      "|10000002|  CPD376012|    924 63rd St|      1310|   Criminal Damage|Criminal Damage t...|              Street|  true|   false|1621|     West Side| W28|      Lakeview|     290|     1150030|     1900088|2021| 41.8762| -87.6309|(41.8762, -87.6309)|             Knife|    null|       X|   Hispanic|2021-02-14T00:00:...|    0443|2021-02-14T00:00:...|     0443|2021-02-14T00:00:...|         null|Public Transit|     D07|         69|          X|       Black|Under Investigation|      Property|            Vandalism|      250303|   60615|Victim vandalism ...|        Medium|              false|\n",
      "|10000003|  CPD417703|   1706 King Dr|      null|           Robbery|       Armed Robbery|        Retail Store| false|   false|0521|    North Side| W22| Humboldt Park|     120|     1150069|     1900040|2008| 41.8852| -87.6266|(41.8852, -87.6266)|             Knife|      31|       M|      Black|2008-03-26T00:00:...|    0431|2008-03-28T00:00:...|     0431|                null|         null|         Alley|     D01|       null|          X|       White|               Open|       Violent|        Armed Robbery|      250303|   60615|                null|          High|              false|\n",
      "|10000004|  CPD524301|   4941 95th St|      3710|Disorderly Conduct|  Disorderly Conduct|      Public Transit| false|   false|1111|Far South Side| W41|     Englewood|     90C|     1150081|     1899956|2001| 41.8759| -87.6218|(41.8759, -87.6218)|        Strong-Arm|      80|       F|       null|2001-03-04T00:00:...|    0005|2001-03-04T00:00:...|     0005|                null|         null|          null|     D01|       null|          M|       White|               Open|         Other|  Public Intoxication|      250303|   60619|                null|           Low|              false|\n",
      "+--------+-----------+---------------+----------+------------------+--------------------+--------------------+------+--------+----+--------------+----+--------------+--------+------------+------------+----+--------+---------+-------------------+------------------+--------+--------+-----------+--------------------+--------+--------------------+---------+--------------------+-------------+--------------+--------+-----------+-----------+------------+-------------------+--------------+---------------------+------------+--------+--------------------+--------------+-------------------+\n",
      "only showing top 5 rows"
     ]
    }
   ],
   "source": [
    "df.show(5)"
   ]
  },
  {
   "cell_type": "code",
   "execution_count": 77,
   "metadata": {},
   "outputs": [
    {
     "data": {
      "application/vnd.jupyter.widget-view+json": {
       "model_id": "",
       "version_major": 2,
       "version_minor": 0
      },
      "text/plain": [
       "FloatProgress(value=0.0, bar_style='info', description='Progress:', layout=Layout(height='25px', width='50%'),…"
      ]
     },
     "metadata": {},
     "output_type": "display_data"
    }
   ],
   "source": [
    "from pyspark.sql.functions import to_timestamp\n",
    "\n",
    "df = df.withColumn(\"date_occ\", to_timestamp(\"date_occ\", \"yyyy-MM-dd HH:mm:ss\"))"
   ]
  },
  {
   "cell_type": "code",
   "execution_count": 78,
   "metadata": {},
   "outputs": [
    {
     "data": {
      "application/vnd.jupyter.widget-view+json": {
       "model_id": "",
       "version_major": 2,
       "version_minor": 0
      },
      "text/plain": [
       "FloatProgress(value=0.0, bar_style='info', description='Progress:', layout=Layout(height='25px', width='50%'),…"
      ]
     },
     "metadata": {},
     "output_type": "display_data"
    },
    {
     "name": "stdout",
     "output_type": "stream",
     "text": [
      "root\n",
      " |-- id: integer (nullable = true)\n",
      " |-- case_number: string (nullable = true)\n",
      " |-- block: string (nullable = true)\n",
      " |-- nibrs_code: string (nullable = true)\n",
      " |-- primary_type: string (nullable = true)\n",
      " |-- description: string (nullable = true)\n",
      " |-- location_description: string (nullable = true)\n",
      " |-- arrest: boolean (nullable = true)\n",
      " |-- domestic: boolean (nullable = true)\n",
      " |-- beat: string (nullable = true)\n",
      " |-- area: string (nullable = true)\n",
      " |-- ward: string (nullable = true)\n",
      " |-- community_area: string (nullable = true)\n",
      " |-- fbi_code: string (nullable = true)\n",
      " |-- x_coordinate: long (nullable = true)\n",
      " |-- y_coordinate: long (nullable = true)\n",
      " |-- year: integer (nullable = true)\n",
      " |-- latitude: double (nullable = true)\n",
      " |-- longitude: double (nullable = true)\n",
      " |-- location: string (nullable = true)\n",
      " |-- weapon_description: string (nullable = true)\n",
      " |-- vict_age: integer (nullable = true)\n",
      " |-- vict_sex: string (nullable = true)\n",
      " |-- victim_race: string (nullable = true)\n",
      " |-- date_occ: timestamp (nullable = true)\n",
      " |-- time_occ: string (nullable = true)\n",
      " |-- date_rptd: string (nullable = true)\n",
      " |-- time_rptd: string (nullable = true)\n",
      " |-- date_arrested: string (nullable = true)\n",
      " |-- time_arrested: string (nullable = true)\n",
      " |-- premises_desc: string (nullable = true)\n",
      " |-- district: string (nullable = true)\n",
      " |-- suspect_age: integer (nullable = true)\n",
      " |-- suspect_sex: string (nullable = true)\n",
      " |-- suspect_race: string (nullable = true)\n",
      " |-- case_status: string (nullable = true)\n",
      " |-- crime_category: string (nullable = true)\n",
      " |-- secondary_description: string (nullable = true)\n",
      " |-- census_tract: string (nullable = true)\n",
      " |-- zip_code: string (nullable = true)\n",
      " |-- incident_narrative: string (nullable = true)\n",
      " |-- priority_level: string (nullable = true)\n",
      " |-- repeat_offense_flag: boolean (nullable = true)"
     ]
    }
   ],
   "source": [
    "df.printSchema()"
   ]
  },
  {
   "cell_type": "code",
   "execution_count": 81,
   "metadata": {},
   "outputs": [
    {
     "data": {
      "application/vnd.jupyter.widget-view+json": {
       "model_id": "",
       "version_major": 2,
       "version_minor": 0
      },
      "text/plain": [
       "FloatProgress(value=0.0, bar_style='info', description='Progress:', layout=Layout(height='25px', width='50%'),…"
      ]
     },
     "metadata": {},
     "output_type": "display_data"
    }
   ],
   "source": [
    "from pyspark.sql.functions import to_date\n",
    "df = df.withColumn(\"date_occ\", to_date(\"date_occ\"))"
   ]
  },
  {
   "cell_type": "code",
   "execution_count": 82,
   "metadata": {},
   "outputs": [
    {
     "data": {
      "application/vnd.jupyter.widget-view+json": {
       "model_id": "",
       "version_major": 2,
       "version_minor": 0
      },
      "text/plain": [
       "FloatProgress(value=0.0, bar_style='info', description='Progress:', layout=Layout(height='25px', width='50%'),…"
      ]
     },
     "metadata": {},
     "output_type": "display_data"
    },
    {
     "name": "stdout",
     "output_type": "stream",
     "text": [
      "root\n",
      " |-- id: integer (nullable = true)\n",
      " |-- case_number: string (nullable = true)\n",
      " |-- block: string (nullable = true)\n",
      " |-- nibrs_code: string (nullable = true)\n",
      " |-- primary_type: string (nullable = true)\n",
      " |-- description: string (nullable = true)\n",
      " |-- location_description: string (nullable = true)\n",
      " |-- arrest: boolean (nullable = true)\n",
      " |-- domestic: boolean (nullable = true)\n",
      " |-- beat: string (nullable = true)\n",
      " |-- area: string (nullable = true)\n",
      " |-- ward: string (nullable = true)\n",
      " |-- community_area: string (nullable = true)\n",
      " |-- fbi_code: string (nullable = true)\n",
      " |-- x_coordinate: long (nullable = true)\n",
      " |-- y_coordinate: long (nullable = true)\n",
      " |-- year: integer (nullable = true)\n",
      " |-- latitude: double (nullable = true)\n",
      " |-- longitude: double (nullable = true)\n",
      " |-- location: string (nullable = true)\n",
      " |-- weapon_description: string (nullable = true)\n",
      " |-- vict_age: integer (nullable = true)\n",
      " |-- vict_sex: string (nullable = true)\n",
      " |-- victim_race: string (nullable = true)\n",
      " |-- date_occ: date (nullable = true)\n",
      " |-- time_occ: string (nullable = true)\n",
      " |-- date_rptd: string (nullable = true)\n",
      " |-- time_rptd: string (nullable = true)\n",
      " |-- date_arrested: string (nullable = true)\n",
      " |-- time_arrested: string (nullable = true)\n",
      " |-- premises_desc: string (nullable = true)\n",
      " |-- district: string (nullable = true)\n",
      " |-- suspect_age: integer (nullable = true)\n",
      " |-- suspect_sex: string (nullable = true)\n",
      " |-- suspect_race: string (nullable = true)\n",
      " |-- case_status: string (nullable = true)\n",
      " |-- crime_category: string (nullable = true)\n",
      " |-- secondary_description: string (nullable = true)\n",
      " |-- census_tract: string (nullable = true)\n",
      " |-- zip_code: string (nullable = true)\n",
      " |-- incident_narrative: string (nullable = true)\n",
      " |-- priority_level: string (nullable = true)\n",
      " |-- repeat_offense_flag: boolean (nullable = true)"
     ]
    }
   ],
   "source": [
    "df.printSchema()"
   ]
  },
  {
   "cell_type": "code",
   "execution_count": 83,
   "metadata": {},
   "outputs": [
    {
     "data": {
      "application/vnd.jupyter.widget-view+json": {
       "model_id": "",
       "version_major": 2,
       "version_minor": 0
      },
      "text/plain": [
       "FloatProgress(value=0.0, bar_style='info', description='Progress:', layout=Layout(height='25px', width='50%'),…"
      ]
     },
     "metadata": {},
     "output_type": "display_data"
    }
   ],
   "source": [
    "df = df.withColumn(\"date_rptd\", to_timestamp(\"date_rptd\", \"yyyy-MM-dd HH:mm:ss\"))\n",
    "df = df.withColumn(\"date_rptd\", to_date(\"date_rptd\"))"
   ]
  },
  {
   "cell_type": "code",
   "execution_count": 84,
   "metadata": {},
   "outputs": [
    {
     "data": {
      "application/vnd.jupyter.widget-view+json": {
       "model_id": "",
       "version_major": 2,
       "version_minor": 0
      },
      "text/plain": [
       "FloatProgress(value=0.0, bar_style='info', description='Progress:', layout=Layout(height='25px', width='50%'),…"
      ]
     },
     "metadata": {},
     "output_type": "display_data"
    },
    {
     "name": "stdout",
     "output_type": "stream",
     "text": [
      "root\n",
      " |-- id: integer (nullable = true)\n",
      " |-- case_number: string (nullable = true)\n",
      " |-- block: string (nullable = true)\n",
      " |-- nibrs_code: string (nullable = true)\n",
      " |-- primary_type: string (nullable = true)\n",
      " |-- description: string (nullable = true)\n",
      " |-- location_description: string (nullable = true)\n",
      " |-- arrest: boolean (nullable = true)\n",
      " |-- domestic: boolean (nullable = true)\n",
      " |-- beat: string (nullable = true)\n",
      " |-- area: string (nullable = true)\n",
      " |-- ward: string (nullable = true)\n",
      " |-- community_area: string (nullable = true)\n",
      " |-- fbi_code: string (nullable = true)\n",
      " |-- x_coordinate: long (nullable = true)\n",
      " |-- y_coordinate: long (nullable = true)\n",
      " |-- year: integer (nullable = true)\n",
      " |-- latitude: double (nullable = true)\n",
      " |-- longitude: double (nullable = true)\n",
      " |-- location: string (nullable = true)\n",
      " |-- weapon_description: string (nullable = true)\n",
      " |-- vict_age: integer (nullable = true)\n",
      " |-- vict_sex: string (nullable = true)\n",
      " |-- victim_race: string (nullable = true)\n",
      " |-- date_occ: date (nullable = true)\n",
      " |-- time_occ: string (nullable = true)\n",
      " |-- date_rptd: date (nullable = true)\n",
      " |-- time_rptd: string (nullable = true)\n",
      " |-- date_arrested: string (nullable = true)\n",
      " |-- time_arrested: string (nullable = true)\n",
      " |-- premises_desc: string (nullable = true)\n",
      " |-- district: string (nullable = true)\n",
      " |-- suspect_age: integer (nullable = true)\n",
      " |-- suspect_sex: string (nullable = true)\n",
      " |-- suspect_race: string (nullable = true)\n",
      " |-- case_status: string (nullable = true)\n",
      " |-- crime_category: string (nullable = true)\n",
      " |-- secondary_description: string (nullable = true)\n",
      " |-- census_tract: string (nullable = true)\n",
      " |-- zip_code: string (nullable = true)\n",
      " |-- incident_narrative: string (nullable = true)\n",
      " |-- priority_level: string (nullable = true)\n",
      " |-- repeat_offense_flag: boolean (nullable = true)"
     ]
    }
   ],
   "source": [
    "df.printSchema()"
   ]
  },
  {
   "cell_type": "code",
   "execution_count": null,
   "metadata": {},
   "outputs": [
    {
     "data": {
      "application/vnd.jupyter.widget-view+json": {
       "model_id": "ecd94076b9144be3b97df2662740fe88",
       "version_major": 2,
       "version_minor": 0
      },
      "text/plain": [
       "FloatProgress(value=0.0, bar_style='info', description='Progress:', layout=Layout(height='25px', width='50%'),…"
      ]
     },
     "metadata": {},
     "output_type": "display_data"
    }
   ],
   "source": [
    "# Load your data\n",
    "input_path = s3_parquet_path  # <-- change this\n",
    "output_path = \"s3://finalyearproject201/cleaned_data/\"  # <-- change this\n",
    "\n",
    "# Required columns\n",
    "required_cols = [\n",
    "    \"id\", \"case_number\", \"primary_type\", \"location_description\", \"arrest\", \"domestic\", \n",
    "    \"area\", \"ward\", \"community_area\", \"fbi_code\", \"x_coordinate\", \"y_coordinate\", \n",
    "    \"year\", \"latitude\", \"longitude\", \"weapon_description\", \"vict_age\", \"vict_sex\", \n",
    "    \"victim_race\", \"date_occ\", \"time_occ\", \"date_rptd\", \"premises_desc\", \"district\", \n",
    "    \"suspect_age\", \"suspect_sex\", \"suspect_race\", \"case_status\", \"crime_category\", \n",
    "    \"zip_code\", \"priority_level\", \"repeat_offense_flag\"\n",
    "]\n",
    "\n",
    "# Select only required columns\n",
    "df = df.select(required_cols)\n",
    "\n",
    "# Fill nulls according to rules\n",
    "fill_values = {\n",
    "    \"case_number\": \"Unknown\",\n",
    "    \"primary_type\": \"Unknown\",\n",
    "    \"location_description\": \"Unknown\",\n",
    "    \"arrest\": False,\n",
    "    \"domestic\": False,\n",
    "    \"area\": \"Unknown\",\n",
    "    \"ward\": \"Unknown\",\n",
    "    \"community_area\": \"Unknown\",\n",
    "    \"fbi_code\": \"Unknown\",\n",
    "    \"x_coordinate\": 0,\n",
    "    \"y_coordinate\": 0,\n",
    "    \"year\": 0,\n",
    "    \"latitude\": 0.0,\n",
    "    \"longitude\": 0.0,\n",
    "    \"weapon_description\": \"Unknown\",\n",
    "    \"vict_age\": -1,\n",
    "    \"vict_sex\": \"Unknown\",\n",
    "    \"victim_race\": \"Unknown\",\n",
    "    \"date_occ\": \"9999-12-31\",\n",
    "    \"time_occ\": \"00:00\",\n",
    "    \"date_rptd\": \"9999-12-31\",\n",
    "    \"premises_desc\": \"Unknown\",\n",
    "    \"district\": \"Unknown\",\n",
    "    \"suspect_age\": -1,\n",
    "    \"suspect_sex\": \"Unknown\",\n",
    "    \"suspect_race\": \"Unknown\",\n",
    "    \"case_status\": \"Pending\",\n",
    "    \"crime_category\": \"Uncategorized\",\n",
    "    \"zip_code\": \"00000\",\n",
    "    \"priority_level\": \"Normal\",\n",
    "    \"repeat_offense_flag\": False\n",
    "}\n",
    "\n",
    "# Apply fill\n",
    "df_clean = df.fillna(fill_values)\n",
    "\n",
    "# Optional: filter out rows where id is null\n",
    "df_clean = df_clean.filter(col(\"id\").isNotNull())\n",
    "\n",
    "# Write cleaned data back to S3 as CSV (coalesced to 1 file)\n",
    "df_clean.coalesce(1).write.option(\"header\", True).mode(\"overwrite\").csv(output_path)\n",
    "\n",
    "print(\"Data cleaning complete.\")"
   ]
  },
  {
   "cell_type": "code",
   "execution_count": null,
   "metadata": {},
   "outputs": [],
   "source": []
  }
 ],
 "metadata": {
  "kernelspec": {
   "display_name": "PySpark",
   "language": "",
   "name": "pysparkkernel"
  },
  "language_info": {
   "codemirror_mode": {
    "name": "python",
    "version": 3
   },
   "mimetype": "text/x-python",
   "name": "pyspark",
   "pygments_lexer": "python3"
  }
 },
 "nbformat": 4,
 "nbformat_minor": 4
}
